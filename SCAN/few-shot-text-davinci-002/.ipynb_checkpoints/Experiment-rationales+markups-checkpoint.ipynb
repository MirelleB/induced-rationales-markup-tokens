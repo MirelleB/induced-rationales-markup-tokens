{
 "cells": [
  {
   "cell_type": "markdown",
   "metadata": {
    "id": "rLqT77ZX_P62"
   },
   "source": [
    "\n",
    "### Extrapolation with text-davinci-002 (SCAN)"
   ]
  },
  {
   "cell_type": "code",
   "execution_count": 32,
   "metadata": {
    "colab": {
     "base_uri": "https://localhost:8080/",
     "height": 646
    },
    "executionInfo": {
     "elapsed": 11060,
     "status": "ok",
     "timestamp": 1651790969567,
     "user": {
      "displayName": "Mirelle Bueno",
      "userId": "12875486356900025383"
     },
     "user_tz": 180
    },
    "id": "a8PwmYff-cLA",
    "outputId": "a386c95b-9db6-4492-daac-cac89a475d22"
   },
   "outputs": [
    {
     "name": "stdout",
     "output_type": "stream",
     "text": [
      "Collecting openai\n",
      "  Downloading openai-0.18.1.tar.gz (42 kB)\n",
      "\u001b[?25l\r",
      "\u001b[K     |███████▊                        | 10 kB 24.4 MB/s eta 0:00:01\r",
      "\u001b[K     |███████████████▍                | 20 kB 19.2 MB/s eta 0:00:01\r",
      "\u001b[K     |███████████████████████▏        | 30 kB 17.3 MB/s eta 0:00:01\r",
      "\u001b[K     |██████████████████████████████▉ | 40 kB 13.7 MB/s eta 0:00:01\r",
      "\u001b[K     |████████████████████████████████| 42 kB 1.1 MB/s \n",
      "\u001b[?25h  Installing build dependencies ... \u001b[?25l\u001b[?25hdone\n",
      "  Getting requirements to build wheel ... \u001b[?25l\u001b[?25hdone\n",
      "    Preparing wheel metadata ... \u001b[?25l\u001b[?25hdone\n",
      "Requirement already satisfied: openpyxl>=3.0.7 in /usr/local/lib/python3.7/dist-packages (from openai) (3.0.9)\n",
      "Requirement already satisfied: pandas>=1.2.3 in /usr/local/lib/python3.7/dist-packages (from openai) (1.3.5)\n",
      "Requirement already satisfied: requests>=2.20 in /usr/local/lib/python3.7/dist-packages (from openai) (2.23.0)\n",
      "Requirement already satisfied: tqdm in /usr/local/lib/python3.7/dist-packages (from openai) (4.64.0)\n",
      "Collecting pandas-stubs>=1.1.0.11\n",
      "  Downloading pandas_stubs-1.2.0.58-py3-none-any.whl (162 kB)\n",
      "\u001b[K     |████████████████████████████████| 162 kB 14.7 MB/s \n",
      "\u001b[?25hRequirement already satisfied: et-xmlfile in /usr/local/lib/python3.7/dist-packages (from openpyxl>=3.0.7->openai) (1.1.0)\n",
      "Requirement already satisfied: numpy>=1.17.3 in /usr/local/lib/python3.7/dist-packages (from pandas>=1.2.3->openai) (1.21.6)\n",
      "Requirement already satisfied: python-dateutil>=2.7.3 in /usr/local/lib/python3.7/dist-packages (from pandas>=1.2.3->openai) (2.8.2)\n",
      "Requirement already satisfied: pytz>=2017.3 in /usr/local/lib/python3.7/dist-packages (from pandas>=1.2.3->openai) (2022.1)\n",
      "Requirement already satisfied: typing-extensions>=3.7.4.3 in /usr/local/lib/python3.7/dist-packages (from pandas-stubs>=1.1.0.11->openai) (4.2.0)\n",
      "Requirement already satisfied: six>=1.5 in /usr/local/lib/python3.7/dist-packages (from python-dateutil>=2.7.3->pandas>=1.2.3->openai) (1.15.0)\n",
      "Requirement already satisfied: idna<3,>=2.5 in /usr/local/lib/python3.7/dist-packages (from requests>=2.20->openai) (2.10)\n",
      "Requirement already satisfied: certifi>=2017.4.17 in /usr/local/lib/python3.7/dist-packages (from requests>=2.20->openai) (2021.10.8)\n",
      "Requirement already satisfied: chardet<4,>=3.0.2 in /usr/local/lib/python3.7/dist-packages (from requests>=2.20->openai) (3.0.4)\n",
      "Requirement already satisfied: urllib3!=1.25.0,!=1.25.1,<1.26,>=1.21.1 in /usr/local/lib/python3.7/dist-packages (from requests>=2.20->openai) (1.24.3)\n",
      "Building wheels for collected packages: openai\n",
      "  Building wheel for openai (PEP 517) ... \u001b[?25l\u001b[?25hdone\n",
      "  Created wheel for openai: filename=openai-0.18.1-py3-none-any.whl size=53168 sha256=0b5ca78484b355e5e35ec4ec2a0229a014015e73d8acb45fa918cae9b6c56730\n",
      "  Stored in directory: /root/.cache/pip/wheels/5a/bf/24/fcdc9d2b81f9c7e565bb2036ec9f7cc930056b829895b3bf48\n",
      "Successfully built openai\n",
      "Installing collected packages: pandas-stubs, openai\n",
      "Successfully installed openai-0.18.1 pandas-stubs-1.2.0.58\n"
     ]
    },
    {
     "data": {
      "application/vnd.colab-display-data+json": {
       "pip_warning": {
        "packages": [
         "pandas"
        ]
       }
      }
     },
     "metadata": {},
     "output_type": "display_data"
    }
   ],
   "source": [
    "!pip install --upgrade openai"
   ]
  },
  {
   "cell_type": "markdown",
   "metadata": {
    "id": "Qz0Kjw7ISZff"
   },
   "source": [
    "## utils"
   ]
  },
  {
   "cell_type": "code",
   "execution_count": 1,
   "metadata": {
    "colab": {
     "base_uri": "https://localhost:8080/"
    },
    "executionInfo": {
     "elapsed": 16,
     "status": "ok",
     "timestamp": 1651783707650,
     "user": {
      "displayName": "Mirelle Bueno",
      "userId": "12875486356900025383"
     },
     "user_tz": 180
    },
    "id": "iIqD0UGyJpre",
    "outputId": "6fd9690e-0588-4f71-8e82-cbb65c8f2d97"
   },
   "outputs": [
    {
     "name": "stdout",
     "output_type": "stream",
     "text": [
      "env: OPENAI_API_KEY=\n"
     ]
    }
   ],
   "source": [
    "%env OPENAI_API_KEY="
   ]
  },
  {
   "cell_type": "code",
   "execution_count": 3,
   "metadata": {
    "executionInfo": {
     "elapsed": 5,
     "status": "ok",
     "timestamp": 1651783710131,
     "user": {
      "displayName": "Mirelle Bueno",
      "userId": "12875486356900025383"
     },
     "user_tz": 180
    },
    "id": "U4RQRpTaAsT7"
   },
   "outputs": [],
   "source": [
    "import pandas as pd\n",
    "import itertools\n",
    "import json\n",
    "\n",
    "def save_results(prompt, ground_truth, responses_, file_name):\n",
    "  \n",
    "  results = {'prompt':[], 'ground_truth':[],'candidate':[]}\n",
    "    \n",
    "  for p, gt, resp in zip(prompt, ground_truth, responses_):\n",
    "    results['prompt'].append(p)\n",
    "    results['ground_truth'].append(gt)\n",
    "    results['candidate'].append(resp['choices'][0]['text'])\n",
    "\n",
    "  #save results\n",
    "  df = pd.DataFrame(results)\n",
    "  df.to_csv(file_name, sep='\\t', index=None, header= False)  "
   ]
  },
  {
   "cell_type": "markdown",
   "metadata": {
    "id": "jmW4-LrybyzQ"
   },
   "source": [
    "## Prompt"
   ]
  },
  {
   "cell_type": "code",
   "execution_count": 33,
   "metadata": {
    "executionInfo": {
     "elapsed": 411,
     "status": "ok",
     "timestamp": 1651791044491,
     "user": {
      "displayName": "Mirelle Bueno",
      "userId": "12875486356900025383"
     },
     "user_tz": 180
    },
    "id": "Tn_ch-FGb08v"
   },
   "outputs": [],
   "source": [
    "base_prompt=\"Example 1:\\nInstruction: jump twice then turn left twice\\nExplanation:\\nBecause of the word \\\"then\\\", the instruction can be divided in two sub-instructions: 1) \\\"jump twice\\\" and 2) \\\"turn left twice\\\"\\n1) \\\"jump twice\\\" results in 2 JUMP commands.\\n2) \\\"turn left twice\\\" results in 2 LEFT commands.\\nOutput: JUMP 1 JUMP 2 || LEFT 1 LEFT 2\\n\\nExample 2:\\nInstruction: turn opposite right after run thrice\\nExplanation:\\nThe word \\\"after\\\", results in the inversion of the two sub-instructions 2) \\\"turn opposite right\\\" and 1) \\\"run thrice\\\".\\n1) \\\"run thrice\\\" results in 3 RUN commands.\\n2) \\\"turn opposite right\\\" . The word \\\"opposite\\\", results in 2 repetitions of command RIGHT, therefore, \\\"turn opposite right\\\" results in 1 RIGHT RIGHT command.\\nOutput: RUN 1 RUN 2 RUN 3 || RIGHT RIGHT 1\\n\\nExample 3:\\nInstruction: turn around left twice and walk\\nExplanation:\\nBecause of the word \\\"and\\\", the instruction can be divided in two sub-instructions: 1) \\\"turn around left twice\\\" and 2) \\\"walk\\\"\\n1) \\\"turn around left twice\\\". The word \\\"around\\\" results in 4 repetitions, therefore, \\\"turn around left\\\" corresponds to 4 LEFT commands. Because of the word \\\"twice\\\", \\\"turn around left twice\\\" results in 2 x 4 = 8 LEFT commands.\\n2) \\\"walk\\\" results in 1 WALK command.\\nOutput: LEFT 1 LEFT 2 LEFT 3 LEFT 4 LEFT 5 LEFT 6 LEFT 7 LEFT 8 || WALK 1\\n\\nExample 4:\\nInstruction: walk twice after look around right\\nExplanation:\\nThe word \\\"after\\\" results in the inversion of the two sub-instructions 2) \\\"walk twice\\\" and 1) \\\"look around right\\\".\\n1) \\\"look around right\\\". The word \\\"around\\\" results in 4 repetitions, therefore, \\\"look around right\\\" results in 4 RIGHT LOOK commands.\\n2) \\\"walk twice\\\" results in 2 WALK commands.\\nOutput: RIGHT LOOK 1 RIGHT LOOK 2 RIGHT LOOK 3 RIGHT LOOK 4 || WALK 1 WALK 2\\n\\nExample 5:\\nInstruction: walk twice then look opposite left\\nExplanation:\\nBecause of the word \\\"then\\\", the instruction can be divided in two sub-instructions: 1) \\\"walk twice\\\" and 2) \\\"look opposite left\\\"\\n1) \\\"walk twice\\\" results in 2 WALK commands.\\n2) \\\"look opposite left\\\". The word \\\"opposite\\\", results in 2 repetitions of command LEFT, therefore, \\\"look opposite left\\\" results in 1 LEFT LEFT LOOK command.\\nOutput: WALK 1 WALK 2 || LEFT LEFT LOOK 1\\n\\nExample 6:\\nInstruction: run around left\\nExplanation:\\n1) \\\"run around left\\\". The word \\\"around\\\" results in 4 repetitions, therefore, \\\"run around left\\\" results in 4 LEFT RUN commands.\\nOutput: LEFT RUN 1 LEFT RUN 2 LEFT RUN 3 LEFT RUN 4\\n\\nExample 7:\\nInstruction: run around left thrice\\nExplanation:\\n1) \\\"run around left twice\\\". The word \\\"around\\\" results in 4 repetitions, therefore, \\\"run around left\\\" corresponds to 4 LEFT RUN commands. Because of the word \\\"thrice\\\", \\\"run around left thrice\\\" results in 3 x 4 = 12 LEFT RUN commands.\\nOutput: LEFT RUN 1 LEFT RUN 2 LEFT RUN 3 LEFT RUN 4 LEFT RUN 5 LEFT RUN 6 LEFT RUN 7 LEFT RUN 8 LEFT RUN 9 LEFT RUN 10 LEFT RUN 11 LEFT RUN 12\\n\\nExample 8:\\nInstruction: jump around right twice after run opposite left twice\\nExplanation:\\nThe word \\\"after\\\" results in the inversion of the two sub-instructions 2) \\\"jump around right twice\\\" and 1) \\\"run opposite left twice\\\".\\n1) \\\"run opposite left twice\\\". The word \\\"opposite\\\", results in 2 repetitions of command LEFT, therefore, \\\"run opposite left\\\" corresponds to 1 LEFT LEFT RUN command. Because of the \\\"twice\\\", \\\"run opposite left twice\\\" results in 2 LEFT LEFT RUN commands.\\n2) \\\"jump around right twice\\\". The word \\\"around\\\" results in 4 repetitions, therefore, \\\"jump around right\\\" corresponds to 4 RIGHT JUMP commands. Because of the word \\\"twice\\\", \\\"jump around right twice\\\" results in 2 x 4 = 8 RIGHT JUMP commands.\\nOutput: LEFT LEFT RUN 1 LEFT LEFT RUN 2 || RIGHT JUMP 1 RIGHT JUMP 2 RIGHT JUMP 3 RIGHT JUMP 4 RIGHT JUMP 5 RIGHT JUMP 6 RIGHT JUMP 7 RIGHT JUMP 8\\n\\nExample 9:\\nInstruction: turn around right twice\\nExplanation:\\n1) \\\"turn around right twice\\\". The word \\\"around\\\" results in 4 repetitions, therefore, \\\"turn around right\\\" corresponds to 4 RIGHT commands. Because of the word \\\"twice\\\", \\\"turn around left twice\\\" results in 2 x 4 = 8 RIGHT commands.\\nOutput: RIGHT 1 RIGHT 2 RIGHT 3 RIGHT 4 RIGHT 5 RIGHT 6 RIGHT 7 RIGHT 8\\n\\n\""
   ]
  },
  {
   "cell_type": "code",
   "execution_count": 34,
   "metadata": {
    "colab": {
     "base_uri": "https://localhost:8080/"
    },
    "executionInfo": {
     "elapsed": 312,
     "status": "ok",
     "timestamp": 1651791052172,
     "user": {
      "displayName": "Mirelle Bueno",
      "userId": "12875486356900025383"
     },
     "user_tz": 180
    },
    "id": "DzsoswaGn2pU",
    "outputId": "6911a5c3-bc58-4f88-a94a-85832f8578b1"
   },
   "outputs": [
    {
     "name": "stdout",
     "output_type": "stream",
     "text": [
      "Example 1:\n",
      "Instruction: jump twice then turn left twice\n",
      "Explanation:\n",
      "Because of the word \"then\", the instruction can be divided in two sub-instructions: 1) \"jump twice\" and 2) \"turn left twice\"\n",
      "1) \"jump twice\" results in 2 JUMP commands.\n",
      "2) \"turn left twice\" results in 2 LEFT commands.\n",
      "Output: JUMP 1 JUMP 2 || LEFT 1 LEFT 2\n",
      "\n",
      "Example 2:\n",
      "Instruction: turn opposite right after run thrice\n",
      "Explanation:\n",
      "The word \"after\", results in the inversion of the two sub-instructions 2) \"turn opposite right\" and 1) \"run thrice\".\n",
      "1) \"run thrice\" results in 3 RUN commands.\n",
      "2) \"turn opposite right\" . The word \"opposite\", results in 2 repetitions of command RIGHT, therefore, \"turn opposite right\" results in 1 RIGHT RIGHT command.\n",
      "Output: RUN 1 RUN 2 RUN 3 || RIGHT RIGHT 1\n",
      "\n",
      "Example 3:\n",
      "Instruction: turn around left twice and walk\n",
      "Explanation:\n",
      "Because of the word \"and\", the instruction can be divided in two sub-instructions: 1) \"turn around left twice\" and 2) \"walk\"\n",
      "1) \"turn around left twice\". The word \"around\" results in 4 repetitions, therefore, \"turn around left\" corresponds to 4 LEFT commands. Because of the word \"twice\", \"turn around left twice\" results in 2 x 4 = 8 LEFT commands.\n",
      "2) \"walk\" results in 1 WALK command.\n",
      "Output: LEFT 1 LEFT 2 LEFT 3 LEFT 4 LEFT 5 LEFT 6 LEFT 7 LEFT 8 || WALK 1\n",
      "\n",
      "Example 4:\n",
      "Instruction: walk twice after look around right\n",
      "Explanation:\n",
      "The word \"after\" results in the inversion of the two sub-instructions 2) \"walk twice\" and 1) \"look around right\".\n",
      "1) \"look around right\". The word \"around\" results in 4 repetitions, therefore, \"look around right\" results in 4 RIGHT LOOK commands.\n",
      "2) \"walk twice\" results in 2 WALK commands.\n",
      "Output: RIGHT LOOK 1 RIGHT LOOK 2 RIGHT LOOK 3 RIGHT LOOK 4 || WALK 1 WALK 2\n",
      "\n",
      "Example 5:\n",
      "Instruction: walk twice then look opposite left\n",
      "Explanation:\n",
      "Because of the word \"then\", the instruction can be divided in two sub-instructions: 1) \"walk twice\" and 2) \"look opposite left\"\n",
      "1) \"walk twice\" results in 2 WALK commands.\n",
      "2) \"look opposite left\". The word \"opposite\", results in 2 repetitions of command LEFT, therefore, \"look opposite left\" results in 1 LEFT LEFT LOOK command.\n",
      "Output: WALK 1 WALK 2 || LEFT LEFT LOOK 1\n",
      "\n",
      "Example 6:\n",
      "Instruction: run around left\n",
      "Explanation:\n",
      "1) \"run around left\". The word \"around\" results in 4 repetitions, therefore, \"run around left\" results in 4 LEFT RUN commands.\n",
      "Output: LEFT RUN 1 LEFT RUN 2 LEFT RUN 3 LEFT RUN 4\n",
      "\n",
      "Example 7:\n",
      "Instruction: run around left thrice\n",
      "Explanation:\n",
      "1) \"run around left twice\". The word \"around\" results in 4 repetitions, therefore, \"run around left\" corresponds to 4 LEFT RUN commands. Because of the word \"thrice\", \"run around left thrice\" results in 3 x 4 = 12 LEFT RUN commands.\n",
      "Output: LEFT RUN 1 LEFT RUN 2 LEFT RUN 3 LEFT RUN 4 LEFT RUN 5 LEFT RUN 6 LEFT RUN 7 LEFT RUN 8 LEFT RUN 9 LEFT RUN 10 LEFT RUN 11 LEFT RUN 12\n",
      "\n",
      "Example 8:\n",
      "Instruction: jump around right twice after run opposite left twice\n",
      "Explanation:\n",
      "The word \"after\" results in the inversion of the two sub-instructions 2) \"jump around right twice\" and 1) \"run opposite left twice\".\n",
      "1) \"run opposite left twice\". The word \"opposite\", results in 2 repetitions of command LEFT, therefore, \"run opposite left\" corresponds to 1 LEFT LEFT RUN command. Because of the \"twice\", \"run opposite left twice\" results in 2 LEFT LEFT RUN commands.\n",
      "2) \"jump around right twice\". The word \"around\" results in 4 repetitions, therefore, \"jump around right\" corresponds to 4 RIGHT JUMP commands. Because of the word \"twice\", \"jump around right twice\" results in 2 x 4 = 8 RIGHT JUMP commands.\n",
      "Output: LEFT LEFT RUN 1 LEFT LEFT RUN 2 || RIGHT JUMP 1 RIGHT JUMP 2 RIGHT JUMP 3 RIGHT JUMP 4 RIGHT JUMP 5 RIGHT JUMP 6 RIGHT JUMP 7 RIGHT JUMP 8\n",
      "\n",
      "Example 9:\n",
      "Instruction: turn around right twice\n",
      "Explanation:\n",
      "1) \"turn around right twice\". The word \"around\" results in 4 repetitions, therefore, \"turn around right\" corresponds to 4 RIGHT commands. Because of the word \"twice\", \"turn around left twice\" results in 2 x 4 = 8 RIGHT commands.\n",
      "Output: RIGHT 1 RIGHT 2 RIGHT 3 RIGHT 4 RIGHT 5 RIGHT 6 RIGHT 7 RIGHT 8\n",
      "\n",
      "\n"
     ]
    }
   ],
   "source": [
    "print(base_prompt)"
   ]
  },
  {
   "cell_type": "code",
   "execution_count": 35,
   "metadata": {
    "executionInfo": {
     "elapsed": 511,
     "status": "ok",
     "timestamp": 1651791130303,
     "user": {
      "displayName": "Mirelle Bueno",
      "userId": "12875486356900025383"
     },
     "user_tz": 180
    },
    "id": "kfgmw5ok61rC"
   },
   "outputs": [],
   "source": [
    "test_samples = pd.read_csv('test_set_randon_400.tsv', sep='\\t')"
   ]
  },
  {
   "cell_type": "code",
   "execution_count": null,
   "metadata": {
    "colab": {
     "base_uri": "https://localhost:8080/"
    },
    "executionInfo": {
     "elapsed": 1669191,
     "status": "ok",
     "timestamp": 1651792929021,
     "user": {
      "displayName": "Mirelle Bueno",
      "userId": "12875486356900025383"
     },
     "user_tz": 180
    },
    "id": "l5hgy3w1LzzY",
    "outputId": "ad3cec18-0b19-419e-e50b-ec163a58235d"
   },
   "outputs": [],
   "source": [
    "import os\n",
    "import openai\n",
    "openai.api_key = os.getenv(\"OPENAI_API_KEY\")\n",
    "responses = []\n",
    "\n",
    "for idx, sample in enumerate(test_samples['instruction']):\n",
    "    \n",
    "  prompt_sample=base_prompt+'Example 10:\\nInstruction: '+sample+'\\nExplanation:'\n",
    "\n",
    "  response = openai.Completion.create(\n",
    "  engine=\"text-davinci-002\",\n",
    "  prompt=prompt_sample,\n",
    "  temperature=0.0,\n",
    "  max_tokens=356,\n",
    "  top_p=1,\n",
    "  frequency_penalty=0,\n",
    "  presence_penalty=0,\n",
    "  stop=[\"\\n\\n\"]\n",
    "  )\n",
    "\n",
    "  responses.append(response)"
   ]
  },
  {
   "cell_type": "code",
   "execution_count": null,
   "metadata": {
    "colab": {
     "base_uri": "https://localhost:8080/"
    },
    "executionInfo": {
     "elapsed": 342,
     "status": "ok",
     "timestamp": 1650828130070,
     "user": {
      "displayName": "Mirelle Bueno",
      "userId": "12875486356900025383"
     },
     "user_tz": 180
    },
    "id": "kMpsQ5nAIZqN",
    "outputId": "8cc7a375-42fd-409d-f1c1-2bb94ce879ec"
   },
   "outputs": [
    {
     "data": {
      "text/plain": [
       "<OpenAIObject text_completion id=cmpl-50bqQ4beUMQr2iFc6AxP2o4yJYCtU at 0x7f0f160bdef0> JSON: {\n",
       "  \"choices\": [\n",
       "    {\n",
       "      \"finish_reason\": \"stop\",\n",
       "      \"index\": 0,\n",
       "      \"logprobs\": null,\n",
       "      \"text\": \" \\\"look around right\\\" results in 4 RIGHT LOOK commands, and \\\"look around right thrice\\\" results in 3 RIGHT RIGHT LOOK commands.\\nOutput: RIGHT LOOK 1 RIGHT LOOK 2 RIGHT LOOK 3 RIGHT LOOK 4 RIGHT RIGHT LOOK 1 RIGHT RIGHT LOOK 2 RIGHT RIGHT LOOK 3\"\n",
       "    }\n",
       "  ],\n",
       "  \"created\": 1650827158,\n",
       "  \"id\": \"cmpl-50bqQ4beUMQr2iFc6AxP2o4yJYCtU\",\n",
       "  \"model\": \"text-davinci:002\",\n",
       "  \"object\": \"text_completion\"\n",
       "}"
      ]
     },
     "execution_count": 27,
     "metadata": {},
     "output_type": "execute_result"
    }
   ],
   "source": [
    "responses[3]"
   ]
  },
  {
   "cell_type": "code",
   "execution_count": 41,
   "metadata": {
    "colab": {
     "base_uri": "https://localhost:8080/",
     "height": 1000
    },
    "executionInfo": {
     "elapsed": 19806,
     "status": "ok",
     "timestamp": 1651792960294,
     "user": {
      "displayName": "Mirelle Bueno",
      "userId": "12875486356900025383"
     },
     "user_tz": 180
    },
    "id": "3FJXxF1FhgNh",
    "outputId": "b48fc17b-19d3-44f1-9e1d-a3fa0dfecd34"
   },
   "outputs": [
    {
     "name": "stdout",
     "output_type": "stream",
     "text": [
      "Found existing installation: pandas 1.3.5\n",
      "Uninstalling pandas-1.3.5:\n",
      "  Would remove:\n",
      "    /usr/local/lib/python3.7/dist-packages/pandas-1.3.5.dist-info/*\n",
      "    /usr/local/lib/python3.7/dist-packages/pandas/*\n",
      "  Would not remove (might be manually added):\n",
      "    /usr/local/lib/python3.7/dist-packages/pandas/__init__.pyi\n",
      "    /usr/local/lib/python3.7/dist-packages/pandas/_config/__init__.pyi\n",
      "    /usr/local/lib/python3.7/dist-packages/pandas/_config/config.pyi\n",
      "    /usr/local/lib/python3.7/dist-packages/pandas/_config/dates.pyi\n",
      "    /usr/local/lib/python3.7/dist-packages/pandas/_config/display.pyi\n",
      "    /usr/local/lib/python3.7/dist-packages/pandas/_config/localization.pyi\n",
      "    /usr/local/lib/python3.7/dist-packages/pandas/_libs/__init__.pyi\n",
      "    /usr/local/lib/python3.7/dist-packages/pandas/_libs/indexing.pyi\n",
      "    /usr/local/lib/python3.7/dist-packages/pandas/_libs/interval.pyi\n",
      "    /usr/local/lib/python3.7/dist-packages/pandas/_libs/missing.pyi\n",
      "    /usr/local/lib/python3.7/dist-packages/pandas/_libs/properties.pyi\n",
      "    /usr/local/lib/python3.7/dist-packages/pandas/_libs/sparse.pyi\n",
      "    /usr/local/lib/python3.7/dist-packages/pandas/_libs/tslibs/__init__.pyi\n",
      "    /usr/local/lib/python3.7/dist-packages/pandas/_libs/tslibs/normalize_date.pyi\n",
      "    /usr/local/lib/python3.7/dist-packages/pandas/_libs/tslibs/np_datetime.pyi\n",
      "    /usr/local/lib/python3.7/dist-packages/pandas/_libs/tslibs/offsets.pyi\n",
      "    /usr/local/lib/python3.7/dist-packages/pandas/_libs/tslibs/resolution.pyi\n",
      "    /usr/local/lib/python3.7/dist-packages/pandas/_libs/window/__init__.pyi\n",
      "    /usr/local/lib/python3.7/dist-packages/pandas/_testing/__init__.pyi\n",
      "    /usr/local/lib/python3.7/dist-packages/pandas/_typing.pyi\n",
      "    /usr/local/lib/python3.7/dist-packages/pandas/_version.pyi\n",
      "    /usr/local/lib/python3.7/dist-packages/pandas/api/__init__.pyi\n",
      "    /usr/local/lib/python3.7/dist-packages/pandas/api/extensions/__init__.pyi\n",
      "    /usr/local/lib/python3.7/dist-packages/pandas/api/indexers/__init__.pyi\n",
      "    /usr/local/lib/python3.7/dist-packages/pandas/api/types/__init__.pyi\n",
      "    /usr/local/lib/python3.7/dist-packages/pandas/arrays/__init__.pyi\n",
      "    /usr/local/lib/python3.7/dist-packages/pandas/conftest.pyi\n",
      "    /usr/local/lib/python3.7/dist-packages/pandas/core/__init__.pyi\n",
      "    /usr/local/lib/python3.7/dist-packages/pandas/core/accessor.pyi\n",
      "    /usr/local/lib/python3.7/dist-packages/pandas/core/algorithms.pyi\n",
      "    /usr/local/lib/python3.7/dist-packages/pandas/core/api.pyi\n",
      "    /usr/local/lib/python3.7/dist-packages/pandas/core/apply.pyi\n",
      "    /usr/local/lib/python3.7/dist-packages/pandas/core/arrays/__init__.pyi\n",
      "    /usr/local/lib/python3.7/dist-packages/pandas/core/arrays/_arrow_utils.pyi\n",
      "    /usr/local/lib/python3.7/dist-packages/pandas/core/arrays/_ranges.pyi\n",
      "    /usr/local/lib/python3.7/dist-packages/pandas/core/arrays/base.pyi\n",
      "    /usr/local/lib/python3.7/dist-packages/pandas/core/arrays/boolean.pyi\n",
      "    /usr/local/lib/python3.7/dist-packages/pandas/core/arrays/categorical.pyi\n",
      "    /usr/local/lib/python3.7/dist-packages/pandas/core/arrays/datetimelike.pyi\n",
      "    /usr/local/lib/python3.7/dist-packages/pandas/core/arrays/datetimes.pyi\n",
      "    /usr/local/lib/python3.7/dist-packages/pandas/core/arrays/integer.pyi\n",
      "    /usr/local/lib/python3.7/dist-packages/pandas/core/arrays/interval.pyi\n",
      "    /usr/local/lib/python3.7/dist-packages/pandas/core/arrays/masked.pyi\n",
      "    /usr/local/lib/python3.7/dist-packages/pandas/core/arrays/numpy_.pyi\n",
      "    /usr/local/lib/python3.7/dist-packages/pandas/core/arrays/period.pyi\n",
      "    /usr/local/lib/python3.7/dist-packages/pandas/core/arrays/sparse/__init__.pyi\n",
      "    /usr/local/lib/python3.7/dist-packages/pandas/core/arrays/sparse/accessor.pyi\n",
      "    /usr/local/lib/python3.7/dist-packages/pandas/core/arrays/sparse/array.pyi\n",
      "    /usr/local/lib/python3.7/dist-packages/pandas/core/arrays/sparse/dtype.pyi\n",
      "    /usr/local/lib/python3.7/dist-packages/pandas/core/arrays/sparse/scipy_sparse.pyi\n",
      "    /usr/local/lib/python3.7/dist-packages/pandas/core/arrays/string_.pyi\n",
      "    /usr/local/lib/python3.7/dist-packages/pandas/core/arrays/timedeltas.pyi\n",
      "    /usr/local/lib/python3.7/dist-packages/pandas/core/base.pyi\n",
      "    /usr/local/lib/python3.7/dist-packages/pandas/core/common.pyi\n",
      "    /usr/local/lib/python3.7/dist-packages/pandas/core/computation/__init__.pyi\n",
      "    /usr/local/lib/python3.7/dist-packages/pandas/core/computation/align.pyi\n",
      "    /usr/local/lib/python3.7/dist-packages/pandas/core/computation/api.pyi\n",
      "    /usr/local/lib/python3.7/dist-packages/pandas/core/computation/check.pyi\n",
      "    /usr/local/lib/python3.7/dist-packages/pandas/core/computation/common.pyi\n",
      "    /usr/local/lib/python3.7/dist-packages/pandas/core/computation/engines.pyi\n",
      "    /usr/local/lib/python3.7/dist-packages/pandas/core/computation/eval.pyi\n",
      "    /usr/local/lib/python3.7/dist-packages/pandas/core/computation/expr.pyi\n",
      "    /usr/local/lib/python3.7/dist-packages/pandas/core/computation/expressions.pyi\n",
      "    /usr/local/lib/python3.7/dist-packages/pandas/core/computation/ops.pyi\n",
      "    /usr/local/lib/python3.7/dist-packages/pandas/core/computation/parsing.pyi\n",
      "    /usr/local/lib/python3.7/dist-packages/pandas/core/computation/pytables.pyi\n",
      "    /usr/local/lib/python3.7/dist-packages/pandas/core/computation/scope.pyi\n",
      "    /usr/local/lib/python3.7/dist-packages/pandas/core/config_init.pyi\n",
      "    /usr/local/lib/python3.7/dist-packages/pandas/core/construction.pyi\n",
      "    /usr/local/lib/python3.7/dist-packages/pandas/core/dtypes/__init__.pyi\n",
      "    /usr/local/lib/python3.7/dist-packages/pandas/core/dtypes/api.pyi\n",
      "    /usr/local/lib/python3.7/dist-packages/pandas/core/dtypes/base.pyi\n",
      "    /usr/local/lib/python3.7/dist-packages/pandas/core/dtypes/cast.pyi\n",
      "    /usr/local/lib/python3.7/dist-packages/pandas/core/dtypes/common.pyi\n",
      "    /usr/local/lib/python3.7/dist-packages/pandas/core/dtypes/concat.pyi\n",
      "    /usr/local/lib/python3.7/dist-packages/pandas/core/dtypes/dtypes.pyi\n",
      "    /usr/local/lib/python3.7/dist-packages/pandas/core/dtypes/generic.pyi\n",
      "    /usr/local/lib/python3.7/dist-packages/pandas/core/dtypes/inference.pyi\n",
      "    /usr/local/lib/python3.7/dist-packages/pandas/core/dtypes/missing.pyi\n",
      "    /usr/local/lib/python3.7/dist-packages/pandas/core/frame.pyi\n",
      "    /usr/local/lib/python3.7/dist-packages/pandas/core/generic.pyi\n",
      "    /usr/local/lib/python3.7/dist-packages/pandas/core/groupby/__init__.pyi\n",
      "    /usr/local/lib/python3.7/dist-packages/pandas/core/groupby/base.pyi\n",
      "    /usr/local/lib/python3.7/dist-packages/pandas/core/groupby/categorical.pyi\n",
      "    /usr/local/lib/python3.7/dist-packages/pandas/core/groupby/generic.pyi\n",
      "    /usr/local/lib/python3.7/dist-packages/pandas/core/groupby/groupby.pyi\n",
      "    /usr/local/lib/python3.7/dist-packages/pandas/core/groupby/grouper.pyi\n",
      "    /usr/local/lib/python3.7/dist-packages/pandas/core/groupby/ops.pyi\n",
      "    /usr/local/lib/python3.7/dist-packages/pandas/core/index.pyi\n",
      "    /usr/local/lib/python3.7/dist-packages/pandas/core/indexers.pyi\n",
      "    /usr/local/lib/python3.7/dist-packages/pandas/core/indexes/__init__.pyi\n",
      "    /usr/local/lib/python3.7/dist-packages/pandas/core/indexes/accessors.pyi\n",
      "    /usr/local/lib/python3.7/dist-packages/pandas/core/indexes/api.pyi\n",
      "    /usr/local/lib/python3.7/dist-packages/pandas/core/indexes/base.pyi\n",
      "    /usr/local/lib/python3.7/dist-packages/pandas/core/indexes/category.pyi\n",
      "    /usr/local/lib/python3.7/dist-packages/pandas/core/indexes/datetimelike.pyi\n",
      "    /usr/local/lib/python3.7/dist-packages/pandas/core/indexes/datetimes.pyi\n",
      "    /usr/local/lib/python3.7/dist-packages/pandas/core/indexes/extension.pyi\n",
      "    /usr/local/lib/python3.7/dist-packages/pandas/core/indexes/frozen.pyi\n",
      "    /usr/local/lib/python3.7/dist-packages/pandas/core/indexes/interval.pyi\n",
      "    /usr/local/lib/python3.7/dist-packages/pandas/core/indexes/multi.pyi\n",
      "    /usr/local/lib/python3.7/dist-packages/pandas/core/indexes/numeric.pyi\n",
      "    /usr/local/lib/python3.7/dist-packages/pandas/core/indexes/period.pyi\n",
      "    /usr/local/lib/python3.7/dist-packages/pandas/core/indexes/range.pyi\n",
      "    /usr/local/lib/python3.7/dist-packages/pandas/core/indexes/timedeltas.pyi\n",
      "    /usr/local/lib/python3.7/dist-packages/pandas/core/indexing.pyi\n",
      "    /usr/local/lib/python3.7/dist-packages/pandas/core/internals/__init__.pyi\n",
      "    /usr/local/lib/python3.7/dist-packages/pandas/core/internals/blocks.pyi\n",
      "    /usr/local/lib/python3.7/dist-packages/pandas/core/internals/concat.pyi\n",
      "    /usr/local/lib/python3.7/dist-packages/pandas/core/internals/construction.pyi\n",
      "    /usr/local/lib/python3.7/dist-packages/pandas/core/internals/managers.pyi\n",
      "    /usr/local/lib/python3.7/dist-packages/pandas/core/missing.pyi\n",
      "    /usr/local/lib/python3.7/dist-packages/pandas/core/nanops.pyi\n",
      "    /usr/local/lib/python3.7/dist-packages/pandas/core/ops/__init__.pyi\n",
      "    /usr/local/lib/python3.7/dist-packages/pandas/core/ops/array_ops.pyi\n",
      "    /usr/local/lib/python3.7/dist-packages/pandas/core/ops/common.pyi\n",
      "    /usr/local/lib/python3.7/dist-packages/pandas/core/ops/dispatch.pyi\n",
      "    /usr/local/lib/python3.7/dist-packages/pandas/core/ops/docstrings.pyi\n",
      "    /usr/local/lib/python3.7/dist-packages/pandas/core/ops/invalid.pyi\n",
      "    /usr/local/lib/python3.7/dist-packages/pandas/core/ops/mask_ops.pyi\n",
      "    /usr/local/lib/python3.7/dist-packages/pandas/core/ops/methods.pyi\n",
      "    /usr/local/lib/python3.7/dist-packages/pandas/core/ops/missing.pyi\n",
      "    /usr/local/lib/python3.7/dist-packages/pandas/core/ops/roperator.pyi\n",
      "    /usr/local/lib/python3.7/dist-packages/pandas/core/resample.pyi\n",
      "    /usr/local/lib/python3.7/dist-packages/pandas/core/reshape/__init__.pyi\n",
      "    /usr/local/lib/python3.7/dist-packages/pandas/core/reshape/api.pyi\n",
      "    /usr/local/lib/python3.7/dist-packages/pandas/core/reshape/concat.pyi\n",
      "    /usr/local/lib/python3.7/dist-packages/pandas/core/reshape/melt.pyi\n",
      "    /usr/local/lib/python3.7/dist-packages/pandas/core/reshape/merge.pyi\n",
      "    /usr/local/lib/python3.7/dist-packages/pandas/core/reshape/pivot.pyi\n",
      "    /usr/local/lib/python3.7/dist-packages/pandas/core/reshape/reshape.pyi\n",
      "    /usr/local/lib/python3.7/dist-packages/pandas/core/reshape/tile.pyi\n",
      "    /usr/local/lib/python3.7/dist-packages/pandas/core/reshape/util.pyi\n",
      "    /usr/local/lib/python3.7/dist-packages/pandas/core/series.pyi\n",
      "    /usr/local/lib/python3.7/dist-packages/pandas/core/sorting.pyi\n",
      "    /usr/local/lib/python3.7/dist-packages/pandas/core/sparse/__init__.pyi\n",
      "    /usr/local/lib/python3.7/dist-packages/pandas/core/sparse/api.pyi\n",
      "    /usr/local/lib/python3.7/dist-packages/pandas/core/strings.pyi\n",
      "    /usr/local/lib/python3.7/dist-packages/pandas/core/tools/__init__.pyi\n",
      "    /usr/local/lib/python3.7/dist-packages/pandas/core/tools/datetimes.pyi\n",
      "    /usr/local/lib/python3.7/dist-packages/pandas/core/tools/numeric.pyi\n",
      "    /usr/local/lib/python3.7/dist-packages/pandas/core/tools/timedeltas.pyi\n",
      "    /usr/local/lib/python3.7/dist-packages/pandas/core/util/__init__.pyi\n",
      "    /usr/local/lib/python3.7/dist-packages/pandas/core/util/hashing.pyi\n",
      "    /usr/local/lib/python3.7/dist-packages/pandas/core/window/__init__.pyi\n",
      "    /usr/local/lib/python3.7/dist-packages/pandas/core/window/common.pyi\n",
      "    /usr/local/lib/python3.7/dist-packages/pandas/core/window/ewm.pyi\n",
      "    /usr/local/lib/python3.7/dist-packages/pandas/core/window/expanding.pyi\n",
      "    /usr/local/lib/python3.7/dist-packages/pandas/core/window/indexers.pyi\n",
      "    /usr/local/lib/python3.7/dist-packages/pandas/core/window/numba_.pyi\n",
      "    /usr/local/lib/python3.7/dist-packages/pandas/core/window/rolling.pyi\n",
      "    /usr/local/lib/python3.7/dist-packages/pandas/errors/__init__.pyi\n",
      "    /usr/local/lib/python3.7/dist-packages/pandas/io/__init__.pyi\n",
      "    /usr/local/lib/python3.7/dist-packages/pandas/io/api.pyi\n",
      "    /usr/local/lib/python3.7/dist-packages/pandas/io/clipboard/__init__.pyi\n",
      "    /usr/local/lib/python3.7/dist-packages/pandas/io/clipboards.pyi\n",
      "    /usr/local/lib/python3.7/dist-packages/pandas/io/common.pyi\n",
      "    /usr/local/lib/python3.7/dist-packages/pandas/io/date_converters.pyi\n",
      "    /usr/local/lib/python3.7/dist-packages/pandas/io/excel/__init__.pyi\n",
      "    /usr/local/lib/python3.7/dist-packages/pandas/io/excel/_base.pyi\n",
      "    /usr/local/lib/python3.7/dist-packages/pandas/io/excel/_odfreader.pyi\n",
      "    /usr/local/lib/python3.7/dist-packages/pandas/io/excel/_openpyxl.pyi\n",
      "    /usr/local/lib/python3.7/dist-packages/pandas/io/excel/_pyxlsb.pyi\n",
      "    /usr/local/lib/python3.7/dist-packages/pandas/io/excel/_util.pyi\n",
      "    /usr/local/lib/python3.7/dist-packages/pandas/io/excel/_xlrd.pyi\n",
      "    /usr/local/lib/python3.7/dist-packages/pandas/io/excel/_xlsxwriter.pyi\n",
      "    /usr/local/lib/python3.7/dist-packages/pandas/io/excel/_xlwt.pyi\n",
      "    /usr/local/lib/python3.7/dist-packages/pandas/io/feather_format.pyi\n",
      "    /usr/local/lib/python3.7/dist-packages/pandas/io/formats/__init__.pyi\n",
      "    /usr/local/lib/python3.7/dist-packages/pandas/io/formats/console.pyi\n",
      "    /usr/local/lib/python3.7/dist-packages/pandas/io/formats/css.pyi\n",
      "    /usr/local/lib/python3.7/dist-packages/pandas/io/formats/csvs.pyi\n",
      "    /usr/local/lib/python3.7/dist-packages/pandas/io/formats/excel.pyi\n",
      "    /usr/local/lib/python3.7/dist-packages/pandas/io/formats/format.pyi\n",
      "    /usr/local/lib/python3.7/dist-packages/pandas/io/formats/html.pyi\n",
      "    /usr/local/lib/python3.7/dist-packages/pandas/io/formats/latex.pyi\n",
      "    /usr/local/lib/python3.7/dist-packages/pandas/io/formats/printing.pyi\n",
      "    /usr/local/lib/python3.7/dist-packages/pandas/io/formats/style.pyi\n",
      "    /usr/local/lib/python3.7/dist-packages/pandas/io/gbq.pyi\n",
      "    /usr/local/lib/python3.7/dist-packages/pandas/io/gcs.pyi\n",
      "    /usr/local/lib/python3.7/dist-packages/pandas/io/html.pyi\n",
      "    /usr/local/lib/python3.7/dist-packages/pandas/io/json/__init__.pyi\n",
      "    /usr/local/lib/python3.7/dist-packages/pandas/io/json/_json.pyi\n",
      "    /usr/local/lib/python3.7/dist-packages/pandas/io/json/_normalize.pyi\n",
      "    /usr/local/lib/python3.7/dist-packages/pandas/io/json/_table_schema.pyi\n",
      "    /usr/local/lib/python3.7/dist-packages/pandas/io/orc.pyi\n",
      "    /usr/local/lib/python3.7/dist-packages/pandas/io/parquet.pyi\n",
      "    /usr/local/lib/python3.7/dist-packages/pandas/io/parsers/__init__.pyi\n",
      "    /usr/local/lib/python3.7/dist-packages/pandas/io/parsers/base_parser.pyi\n",
      "    /usr/local/lib/python3.7/dist-packages/pandas/io/parsers/c_parser_wrapper.pyi\n",
      "    /usr/local/lib/python3.7/dist-packages/pandas/io/parsers/python_parser.pyi\n",
      "    /usr/local/lib/python3.7/dist-packages/pandas/io/parsers/readers.pyi\n",
      "    /usr/local/lib/python3.7/dist-packages/pandas/io/pickle.pyi\n",
      "    /usr/local/lib/python3.7/dist-packages/pandas/io/pytables.pyi\n",
      "    /usr/local/lib/python3.7/dist-packages/pandas/io/s3.pyi\n",
      "    /usr/local/lib/python3.7/dist-packages/pandas/io/sas/__init__.pyi\n",
      "    /usr/local/lib/python3.7/dist-packages/pandas/io/sas/sas7bdat.pyi\n",
      "    /usr/local/lib/python3.7/dist-packages/pandas/io/sas/sas_constants.pyi\n",
      "    /usr/local/lib/python3.7/dist-packages/pandas/io/sas/sas_xport.pyi\n",
      "    /usr/local/lib/python3.7/dist-packages/pandas/io/sas/sasreader.pyi\n",
      "    /usr/local/lib/python3.7/dist-packages/pandas/io/spss.pyi\n",
      "    /usr/local/lib/python3.7/dist-packages/pandas/io/sql.pyi\n",
      "    /usr/local/lib/python3.7/dist-packages/pandas/io/stata.pyi\n",
      "    /usr/local/lib/python3.7/dist-packages/pandas/plotting/__init__.pyi\n",
      "    /usr/local/lib/python3.7/dist-packages/pandas/plotting/_core.pyi\n",
      "    /usr/local/lib/python3.7/dist-packages/pandas/plotting/_matplotlib/__init__.pyi\n",
      "    /usr/local/lib/python3.7/dist-packages/pandas/plotting/_matplotlib/boxplot.pyi\n",
      "    /usr/local/lib/python3.7/dist-packages/pandas/plotting/_matplotlib/compat.pyi\n",
      "    /usr/local/lib/python3.7/dist-packages/pandas/plotting/_matplotlib/converter.pyi\n",
      "    /usr/local/lib/python3.7/dist-packages/pandas/plotting/_matplotlib/core.pyi\n",
      "    /usr/local/lib/python3.7/dist-packages/pandas/plotting/_matplotlib/hist.pyi\n",
      "    /usr/local/lib/python3.7/dist-packages/pandas/plotting/_matplotlib/misc.pyi\n",
      "    /usr/local/lib/python3.7/dist-packages/pandas/plotting/_matplotlib/style.pyi\n",
      "    /usr/local/lib/python3.7/dist-packages/pandas/plotting/_matplotlib/timeseries.pyi\n",
      "    /usr/local/lib/python3.7/dist-packages/pandas/plotting/_matplotlib/tools.pyi\n",
      "    /usr/local/lib/python3.7/dist-packages/pandas/plotting/_misc.pyi\n",
      "    /usr/local/lib/python3.7/dist-packages/pandas/py.typed\n",
      "    /usr/local/lib/python3.7/dist-packages/pandas/testing.pyi\n",
      "    /usr/local/lib/python3.7/dist-packages/pandas/tseries/__init__.pyi\n",
      "    /usr/local/lib/python3.7/dist-packages/pandas/tseries/api.pyi\n",
      "    /usr/local/lib/python3.7/dist-packages/pandas/tseries/frequencies.pyi\n",
      "    /usr/local/lib/python3.7/dist-packages/pandas/tseries/holiday.pyi\n",
      "    /usr/local/lib/python3.7/dist-packages/pandas/tseries/offsets.pyi\n",
      "    /usr/local/lib/python3.7/dist-packages/pandas/util/__init__.pyi\n",
      "    /usr/local/lib/python3.7/dist-packages/pandas/util/_decorators.pyi\n",
      "    /usr/local/lib/python3.7/dist-packages/pandas/util/_depr_module.pyi\n",
      "    /usr/local/lib/python3.7/dist-packages/pandas/util/_doctools.pyi\n",
      "    /usr/local/lib/python3.7/dist-packages/pandas/util/_exceptions.pyi\n",
      "    /usr/local/lib/python3.7/dist-packages/pandas/util/_print_versions.pyi\n",
      "    /usr/local/lib/python3.7/dist-packages/pandas/util/_test_decorators.pyi\n",
      "    /usr/local/lib/python3.7/dist-packages/pandas/util/_tester.pyi\n",
      "    /usr/local/lib/python3.7/dist-packages/pandas/util/_validators.pyi\n",
      "    /usr/local/lib/python3.7/dist-packages/pandas/util/testing.pyi\n",
      "Proceed (y/n)? y\n",
      "  Successfully uninstalled pandas-1.3.5\n",
      "Collecting pandas\n",
      "  Downloading pandas-1.3.5-cp37-cp37m-manylinux_2_17_x86_64.manylinux2014_x86_64.whl (11.3 MB)\n",
      "\u001b[K     |████████████████████████████████| 11.3 MB 8.4 MB/s \n",
      "\u001b[?25hRequirement already satisfied: pytz>=2017.3 in /usr/local/lib/python3.7/dist-packages (from pandas) (2022.1)\n",
      "Requirement already satisfied: numpy>=1.17.3 in /usr/local/lib/python3.7/dist-packages (from pandas) (1.21.6)\n",
      "Requirement already satisfied: python-dateutil>=2.7.3 in /usr/local/lib/python3.7/dist-packages (from pandas) (2.8.2)\n",
      "Requirement already satisfied: six>=1.5 in /usr/local/lib/python3.7/dist-packages (from python-dateutil>=2.7.3->pandas) (1.15.0)\n",
      "Installing collected packages: pandas\n",
      "Successfully installed pandas-1.3.5\n"
     ]
    },
    {
     "data": {
      "application/vnd.colab-display-data+json": {
       "pip_warning": {
        "packages": [
         "pandas"
        ]
       }
      }
     },
     "metadata": {},
     "output_type": "display_data"
    }
   ],
   "source": [
    "!pip uninstall pandas\n",
    "!pip install  pandas"
   ]
  },
  {
   "cell_type": "code",
   "execution_count": 42,
   "metadata": {
    "executionInfo": {
     "elapsed": 291,
     "status": "ok",
     "timestamp": 1651792966780,
     "user": {
      "displayName": "Mirelle Bueno",
      "userId": "12875486356900025383"
     },
     "user_tz": 180
    },
    "id": "4ZxL5n-esi02"
   },
   "outputs": [],
   "source": [
    "#save results\n",
    "prompt = test_samples['instruction']\n",
    "ground_truth=test_samples['output']\n",
    "save_results(prompt, ground_truth, responses, '/outputs/result_rationales_markups.tsv')"
   ]
  }
 ],
 "metadata": {
  "colab": {
   "authorship_tag": "ABX9TyP7mxxNe7cEy2Wp64pEZOt1",
   "collapsed_sections": [],
   "mount_file_id": "1e0Hj84zQhZThcEFlLKWBwStSnKtj0rCh",
   "name": "scan-promp.ipynb",
   "provenance": []
  },
  "kernelspec": {
   "display_name": "Python 3 (ipykernel)",
   "language": "python",
   "name": "python3"
  },
  "language_info": {
   "codemirror_mode": {
    "name": "ipython",
    "version": 3
   },
   "file_extension": ".py",
   "mimetype": "text/x-python",
   "name": "python",
   "nbconvert_exporter": "python",
   "pygments_lexer": "ipython3",
   "version": "3.8.10"
  }
 },
 "nbformat": 4,
 "nbformat_minor": 1
}

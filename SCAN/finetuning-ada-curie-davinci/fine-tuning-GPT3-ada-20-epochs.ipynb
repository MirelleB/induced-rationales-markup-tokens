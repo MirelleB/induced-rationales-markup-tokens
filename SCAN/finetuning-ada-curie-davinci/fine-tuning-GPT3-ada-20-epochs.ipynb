{
 "cells": [
  {
   "cell_type": "markdown",
   "metadata": {
    "id": "rLqT77ZX_P62"
   },
   "source": [
    "### Fine Tuning  GPT 3- Ada"
   ]
  },
  {
   "cell_type": "code",
   "execution_count": 3,
   "metadata": {
    "colab": {
     "base_uri": "https://localhost:8080/",
     "height": 574
    },
    "executionInfo": {
     "elapsed": 5843,
     "status": "ok",
     "timestamp": 1645012279342,
     "user": {
      "displayName": "Mirelle Bueno",
      "photoUrl": "https://lh3.googleusercontent.com/a-/AOh14GgWHJmVHo_ax_DmihaNzobMChvncLqqgQN_i3TD4g=s64",
      "userId": "12875486356900025383"
     },
     "user_tz": 180
    },
    "id": "a8PwmYff-cLA",
    "outputId": "33ef6854-7bcb-487f-ab2d-313720ee00b9"
   },
   "outputs": [
    {
     "name": "stdout",
     "output_type": "stream",
     "text": [
      "Collecting openai\n",
      "  Downloading openai-0.14.0.tar.gz (40 kB)\n",
      "\u001b[K     |████████████████████████████████| 40 kB 3.4 MB/s \n",
      "\u001b[?25hRequirement already satisfied: requests>=2.20 in /usr/local/lib/python3.7/dist-packages (from openai) (2.23.0)\n",
      "Requirement already satisfied: tqdm in /usr/local/lib/python3.7/dist-packages (from openai) (4.62.3)\n",
      "Requirement already satisfied: pandas>=1.2.3 in /usr/local/lib/python3.7/dist-packages (from openai) (1.3.5)\n",
      "Collecting pandas-stubs>=1.1.0.11\n",
      "  Downloading pandas_stubs-1.2.0.48-py3-none-any.whl (161 kB)\n",
      "\u001b[K     |████████████████████████████████| 161 kB 9.1 MB/s \n",
      "\u001b[?25hRequirement already satisfied: openpyxl>=3.0.7 in /usr/local/lib/python3.7/dist-packages (from openai) (3.0.9)\n",
      "Requirement already satisfied: et-xmlfile in /usr/local/lib/python3.7/dist-packages (from openpyxl>=3.0.7->openai) (1.1.0)\n",
      "Requirement already satisfied: python-dateutil>=2.7.3 in /usr/local/lib/python3.7/dist-packages (from pandas>=1.2.3->openai) (2.8.2)\n",
      "Requirement already satisfied: numpy>=1.17.3 in /usr/local/lib/python3.7/dist-packages (from pandas>=1.2.3->openai) (1.21.5)\n",
      "Requirement already satisfied: pytz>=2017.3 in /usr/local/lib/python3.7/dist-packages (from pandas>=1.2.3->openai) (2018.9)\n",
      "Requirement already satisfied: typing-extensions>=3.7.4.3 in /usr/local/lib/python3.7/dist-packages (from pandas-stubs>=1.1.0.11->openai) (3.10.0.2)\n",
      "Requirement already satisfied: six>=1.5 in /usr/local/lib/python3.7/dist-packages (from python-dateutil>=2.7.3->pandas>=1.2.3->openai) (1.15.0)\n",
      "Requirement already satisfied: chardet<4,>=3.0.2 in /usr/local/lib/python3.7/dist-packages (from requests>=2.20->openai) (3.0.4)\n",
      "Requirement already satisfied: certifi>=2017.4.17 in /usr/local/lib/python3.7/dist-packages (from requests>=2.20->openai) (2021.10.8)\n",
      "Requirement already satisfied: idna<3,>=2.5 in /usr/local/lib/python3.7/dist-packages (from requests>=2.20->openai) (2.10)\n",
      "Requirement already satisfied: urllib3!=1.25.0,!=1.25.1,<1.26,>=1.21.1 in /usr/local/lib/python3.7/dist-packages (from requests>=2.20->openai) (1.24.3)\n",
      "Building wheels for collected packages: openai\n",
      "  Building wheel for openai (setup.py) ... \u001b[?25l\u001b[?25hdone\n",
      "  Created wheel for openai: filename=openai-0.14.0-py3-none-any.whl size=49824 sha256=cf1feef7aad376186c477632f24bde943978cf40353d35ba8d06d1e8eca7f387\n",
      "  Stored in directory: /root/.cache/pip/wheels/45/5f/9e/6035f88eb6fc313fd26ddb4d4b65bfb6fa02d7e5a124160fe9\n",
      "Successfully built openai\n",
      "Installing collected packages: pandas-stubs, openai\n",
      "Successfully installed openai-0.14.0 pandas-stubs-1.2.0.48\n"
     ]
    },
    {
     "data": {
      "application/vnd.colab-display-data+json": {
       "pip_warning": {
        "packages": [
         "pandas"
        ]
       }
      }
     },
     "metadata": {},
     "output_type": "display_data"
    }
   ],
   "source": [
    "!pip install --upgrade openai"
   ]
  },
  {
   "cell_type": "code",
   "execution_count": 2,
   "metadata": {
    "colab": {
     "base_uri": "https://localhost:8080/"
    },
    "executionInfo": {
     "elapsed": 3,
     "status": "ok",
     "timestamp": 1645012232377,
     "user": {
      "displayName": "Mirelle Bueno",
      "photoUrl": "https://lh3.googleusercontent.com/a-/AOh14GgWHJmVHo_ax_DmihaNzobMChvncLqqgQN_i3TD4g=s64",
      "userId": "12875486356900025383"
     },
     "user_tz": 180
    },
    "id": "iIqD0UGyJpre",
    "outputId": "988f0699-bdee-414c-832b-ef08c84142fc"
   },
   "outputs": [
    {
     "name": "stdout",
     "output_type": "stream",
     "text": [
      "env: DATA_PATH=\n",
      "env: OPENAI_API_KEY=''\n",
      "env: SAVE_PATH=\n"
     ]
    }
   ],
   "source": [
    "DATA_PATH = ''\n",
    "%env DATA_PATH=$DATA_PATH\n",
    "\n",
    "%env OPENAI_API_KEY=''\n",
    "\n",
    "SAVE_PATH = ''\n",
    "%env SAVE_PATH=$SAVE_PATH"
   ]
  },
  {
   "cell_type": "code",
   "execution_count": 4,
   "metadata": {
    "executionInfo": {
     "elapsed": 2,
     "status": "ok",
     "timestamp": 1645012298382,
     "user": {
      "displayName": "Mirelle Bueno",
      "photoUrl": "https://lh3.googleusercontent.com/a-/AOh14GgWHJmVHo_ax_DmihaNzobMChvncLqqgQN_i3TD4g=s64",
      "userId": "12875486356900025383"
     },
     "user_tz": 180
    },
    "id": "U4RQRpTaAsT7"
   },
   "outputs": [],
   "source": [
    "import pandas as pd\n",
    "\n",
    "def save_results(prompt, ground_truth, responses, file_name):\n",
    "  \n",
    "  results = {'prompt':[], 'ground_truth':[],'candidate':[]}\n",
    "  assert len(prompt) == len(response)\n",
    "  assert len(ground_truth) == len(response)\n",
    "\n",
    "  for p, gt, resp in zip(prompt, ground_truth, response['choices']):\n",
    "    results['prompt'].append(p)\n",
    "    results['ground_truth'].append(gt)\n",
    "    results['candidate'].append(resp['text'])\n",
    "    #results.append(resp['text'])\n",
    "\n",
    "  #save results\n",
    "  df = pd.DataFrame(results)\n",
    "  df.to_csv(file_name, sep='\\t', index = False)\n",
    "\n",
    "def create_test_input(df, column):\n",
    "  samples = []\n",
    "  for sample in df[column]:\n",
    "    samples.append(str(sample))\n",
    "  return samples"
   ]
  },
  {
   "cell_type": "code",
   "execution_count": 5,
   "metadata": {
    "colab": {
     "base_uri": "https://localhost:8080/"
    },
    "executionInfo": {
     "elapsed": 910343,
     "status": "ok",
     "timestamp": 1645013220586,
     "user": {
      "displayName": "Mirelle Bueno",
      "photoUrl": "https://lh3.googleusercontent.com/a-/AOh14GgWHJmVHo_ax_DmihaNzobMChvncLqqgQN_i3TD4g=s64",
      "userId": "12875486356900025383"
     },
     "user_tz": 180
    },
    "id": "W1N-xTTy_C5A",
    "outputId": "63adbd38-4a62-4b5f-9ee3-961799269553"
   },
   "outputs": [
    {
     "name": "stdout",
     "output_type": "stream",
     "text": [
      "Logging requires wandb to be installed. Run `pip install wandb`.\n",
      "Found potentially duplicated files with name 'train_prepared.jsonl', purpose 'fine-tune' and size 2781328 bytes\n",
      "file-c3rqE7k3iAtuKBy9jeTfPzOo\n",
      "file-yWVOE5K21zuvnx4lvVNZnD4x\n",
      "file-tmN7EBMlKGoURe2Xgbx3eYsk\n",
      "file-IbHWXtibR4efY5DLqxCS7seA\n",
      "Enter file ID to reuse an already uploaded file, or an empty string to upload this file anyway: \n",
      "Upload progress: 100% 2.78M/2.78M [00:00<00:00, 4.67Git/s]\n",
      "Uploaded file from /content/drive/MyDrive/MESTRADO/projeto/Experimentos/SCAN/Fine-Tuning-GPT3/Data/train_prepared.jsonl: file-MMFN0ZyclUTWlSAMdVx6ZWnz\n",
      "Created fine-tune: ft-WmsURGVGBdJAwiZjSscfIK5g\n",
      "Streaming events until fine-tuning is complete...\n",
      "\n",
      "(Ctrl-C will interrupt the stream, but not cancel the fine-tune)\n",
      "[2022-02-16 11:51:59] Created fine-tune: ft-WmsURGVGBdJAwiZjSscfIK5g\n",
      "[2022-02-16 11:52:12] Fine-tune costs $3.66\n",
      "[2022-02-16 11:52:13] Fine-tune enqueued. Queue number: 0\n",
      "[2022-02-16 11:52:19] Fine-tune started\n",
      "[2022-02-16 11:53:48] Completed epoch 1/20\n",
      "[2022-02-16 11:55:00] Completed epoch 2/20\n",
      "[2022-02-16 11:56:13] Completed epoch 3/20\n",
      "[2022-02-16 11:57:24] Completed epoch 4/20\n",
      "[2022-02-16 11:58:37] Completed epoch 5/20\n",
      "[2022-02-16 11:59:50] Completed epoch 6/20\n",
      "[2022-02-16 12:01:02] Completed epoch 7/20\n",
      "[2022-02-16 12:02:14] Completed epoch 8/20\n",
      "[2022-02-16 12:03:27] Completed epoch 9/20\n",
      "[2022-02-16 12:04:39] Completed epoch 10/20\n",
      "[2022-02-16 12:05:51] Completed epoch 11/20\n",
      "\n",
      "Stream interrupted (client disconnected).\n",
      "To resume the stream, run:\n",
      "\n",
      "  openai api fine_tunes.follow -i ft-WmsURGVGBdJAwiZjSscfIK5g\n",
      "\n"
     ]
    }
   ],
   "source": [
    "!openai api fine_tunes.create -m ada --n_epochs 20 -t $DATA_PATH --learning_rate_multiplier 0.02 --batch_size 128\n"
   ]
  },
  {
   "cell_type": "code",
   "execution_count": 7,
   "metadata": {
    "colab": {
     "base_uri": "https://localhost:8080/"
    },
    "executionInfo": {
     "elapsed": 565706,
     "status": "ok",
     "timestamp": 1645013831167,
     "user": {
      "displayName": "Mirelle Bueno",
      "photoUrl": "https://lh3.googleusercontent.com/a-/AOh14GgWHJmVHo_ax_DmihaNzobMChvncLqqgQN_i3TD4g=s64",
      "userId": "12875486356900025383"
     },
     "user_tz": 180
    },
    "id": "0woaDavwonbT",
    "outputId": "4f80dd85-82ba-484c-a394-c0cd9c35b1f0"
   },
   "outputs": [
    {
     "name": "stdout",
     "output_type": "stream",
     "text": [
      "Logging requires wandb to be installed. Run `pip install wandb`.\n",
      "[2022-02-16 11:51:59] Created fine-tune: ft-WmsURGVGBdJAwiZjSscfIK5g\n",
      "[2022-02-16 11:52:12] Fine-tune costs $3.66\n",
      "[2022-02-16 11:52:13] Fine-tune enqueued. Queue number: 0\n",
      "[2022-02-16 11:52:19] Fine-tune started\n",
      "[2022-02-16 11:53:48] Completed epoch 1/20\n",
      "[2022-02-16 11:55:00] Completed epoch 2/20\n",
      "[2022-02-16 11:56:13] Completed epoch 3/20\n",
      "[2022-02-16 11:57:24] Completed epoch 4/20\n",
      "[2022-02-16 11:58:37] Completed epoch 5/20\n",
      "[2022-02-16 11:59:50] Completed epoch 6/20\n",
      "[2022-02-16 12:01:02] Completed epoch 7/20\n",
      "[2022-02-16 12:02:14] Completed epoch 8/20\n",
      "[2022-02-16 12:03:27] Completed epoch 9/20\n",
      "[2022-02-16 12:04:39] Completed epoch 10/20\n",
      "[2022-02-16 12:05:51] Completed epoch 11/20\n",
      "[2022-02-16 12:07:03] Completed epoch 12/20\n",
      "[2022-02-16 12:08:16] Completed epoch 13/20\n",
      "[2022-02-16 12:09:28] Completed epoch 14/20\n",
      "[2022-02-16 12:10:40] Completed epoch 15/20\n",
      "[2022-02-16 12:11:52] Completed epoch 16/20\n",
      "[2022-02-16 12:13:04] Completed epoch 17/20\n",
      "[2022-02-16 12:14:17] Completed epoch 18/20\n",
      "[2022-02-16 12:15:29] Completed epoch 19/20\n",
      "[2022-02-16 12:16:41] Completed epoch 20/20\n",
      "[2022-02-16 12:17:05] Uploaded model: ada:ft-personal-2022-02-16-12-17-03\n",
      "[2022-02-16 12:17:08] Uploaded result file: file-NbB9M0GYt40Pr6KWzjXLBUyJ\n",
      "[2022-02-16 12:17:08] Fine-tune succeeded\n",
      "\n",
      "Job complete! Status: succeeded 🎉\n",
      "Try out your fine-tuned model:\n",
      "\n",
      "openai api completions.create -m ada:ft-personal-2022-02-16-12-17-03 -p <YOUR_PROMPT>\n"
     ]
    }
   ],
   "source": [
    "!openai api fine_tunes.follow -i ft-WmsURGVGBdJAwiZjSscfIK5g"
   ]
  }
 ],
 "metadata": {
  "colab": {
   "authorship_tag": "ABX9TyN5+/+OdoJ05+UhQLUSfFrn",
   "collapsed_sections": [],
   "mount_file_id": "1pMf6vI12jS422f2zj35LAe7Ngy7JCdff",
   "name": "fine-tuning-GPT3.ipynb",
   "provenance": []
  },
  "kernelspec": {
   "display_name": "Python 3 (ipykernel)",
   "language": "python",
   "name": "python3"
  },
  "language_info": {
   "codemirror_mode": {
    "name": "ipython",
    "version": 3
   },
   "file_extension": ".py",
   "mimetype": "text/x-python",
   "name": "python",
   "nbconvert_exporter": "python",
   "pygments_lexer": "ipython3",
   "version": "3.8.10"
  }
 },
 "nbformat": 4,
 "nbformat_minor": 1
}

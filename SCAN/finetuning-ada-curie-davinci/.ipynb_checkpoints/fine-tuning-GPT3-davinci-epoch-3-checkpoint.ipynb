{
 "cells": [
  {
   "cell_type": "markdown",
   "metadata": {
    "id": "rLqT77ZX_P62"
   },
   "source": [
    "### Fine Tuning  GPT 3 - Davinci"
   ]
  },
  {
   "cell_type": "code",
   "execution_count": 2,
   "metadata": {
    "colab": {
     "base_uri": "https://localhost:8080/"
    },
    "executionInfo": {
     "elapsed": 13295,
     "status": "ok",
     "timestamp": 1652808097624,
     "user": {
      "displayName": "Mirelle Bueno",
      "userId": "12875486356900025383"
     },
     "user_tz": 180
    },
    "id": "a8PwmYff-cLA",
    "outputId": "c183524f-1f0c-4fc3-d885-f4379a34b767"
   },
   "outputs": [
    {
     "name": "stdout",
     "output_type": "stream",
     "text": [
      "Collecting openai\n",
      "  Downloading openai-0.18.1.tar.gz (42 kB)\n",
      "\u001b[?25l\r",
      "\u001b[K     |███████▊                        | 10 kB 18.5 MB/s eta 0:00:01\r",
      "\u001b[K     |███████████████▍                | 20 kB 9.9 MB/s eta 0:00:01\r",
      "\u001b[K     |███████████████████████▏        | 30 kB 6.3 MB/s eta 0:00:01\r",
      "\u001b[K     |██████████████████████████████▉ | 40 kB 5.9 MB/s eta 0:00:01\r",
      "\u001b[K     |████████████████████████████████| 42 kB 477 kB/s \n",
      "\u001b[?25h  Installing build dependencies ... \u001b[?25l\u001b[?25hdone\n",
      "  Getting requirements to build wheel ... \u001b[?25l\u001b[?25hdone\n",
      "    Preparing wheel metadata ... \u001b[?25l\u001b[?25hdone\n",
      "Requirement already satisfied: requests>=2.20 in /usr/local/lib/python3.7/dist-packages (from openai) (2.23.0)\n",
      "Requirement already satisfied: tqdm in /usr/local/lib/python3.7/dist-packages (from openai) (4.64.0)\n",
      "Requirement already satisfied: pandas>=1.2.3 in /usr/local/lib/python3.7/dist-packages (from openai) (1.3.5)\n",
      "Collecting pandas-stubs>=1.1.0.11\n",
      "  Downloading pandas_stubs-1.2.0.58-py3-none-any.whl (162 kB)\n",
      "\u001b[K     |████████████████████████████████| 162 kB 5.0 MB/s \n",
      "\u001b[?25hRequirement already satisfied: openpyxl>=3.0.7 in /usr/local/lib/python3.7/dist-packages (from openai) (3.0.9)\n",
      "Requirement already satisfied: et-xmlfile in /usr/local/lib/python3.7/dist-packages (from openpyxl>=3.0.7->openai) (1.1.0)\n",
      "Requirement already satisfied: numpy>=1.17.3 in /usr/local/lib/python3.7/dist-packages (from pandas>=1.2.3->openai) (1.21.6)\n",
      "Requirement already satisfied: pytz>=2017.3 in /usr/local/lib/python3.7/dist-packages (from pandas>=1.2.3->openai) (2022.1)\n",
      "Requirement already satisfied: python-dateutil>=2.7.3 in /usr/local/lib/python3.7/dist-packages (from pandas>=1.2.3->openai) (2.8.2)\n",
      "Requirement already satisfied: typing-extensions>=3.7.4.3 in /usr/local/lib/python3.7/dist-packages (from pandas-stubs>=1.1.0.11->openai) (4.2.0)\n",
      "Requirement already satisfied: six>=1.5 in /usr/local/lib/python3.7/dist-packages (from python-dateutil>=2.7.3->pandas>=1.2.3->openai) (1.15.0)\n",
      "Requirement already satisfied: urllib3!=1.25.0,!=1.25.1,<1.26,>=1.21.1 in /usr/local/lib/python3.7/dist-packages (from requests>=2.20->openai) (1.24.3)\n",
      "Requirement already satisfied: certifi>=2017.4.17 in /usr/local/lib/python3.7/dist-packages (from requests>=2.20->openai) (2021.10.8)\n",
      "Requirement already satisfied: idna<3,>=2.5 in /usr/local/lib/python3.7/dist-packages (from requests>=2.20->openai) (2.10)\n",
      "Requirement already satisfied: chardet<4,>=3.0.2 in /usr/local/lib/python3.7/dist-packages (from requests>=2.20->openai) (3.0.4)\n",
      "Building wheels for collected packages: openai\n",
      "  Building wheel for openai (PEP 517) ... \u001b[?25l\u001b[?25hdone\n",
      "  Created wheel for openai: filename=openai-0.18.1-py3-none-any.whl size=53168 sha256=328dcc6576d925f77c41c3bb54cea8145a6a4915e567ca140b2d4ab67d8efef0\n",
      "  Stored in directory: /root/.cache/pip/wheels/5a/bf/24/fcdc9d2b81f9c7e565bb2036ec9f7cc930056b829895b3bf48\n",
      "Successfully built openai\n",
      "Installing collected packages: pandas-stubs, openai\n",
      "Successfully installed openai-0.18.1 pandas-stubs-1.2.0.58\n"
     ]
    }
   ],
   "source": [
    "!pip install --upgrade openai"
   ]
  },
  {
   "cell_type": "code",
   "execution_count": 1,
   "metadata": {
    "colab": {
     "base_uri": "https://localhost:8080/"
    },
    "executionInfo": {
     "elapsed": 16,
     "status": "ok",
     "timestamp": 1652807991068,
     "user": {
      "displayName": "Mirelle Bueno",
      "userId": "12875486356900025383"
     },
     "user_tz": 180
    },
    "id": "iIqD0UGyJpre",
    "outputId": "c4d84bfa-dee7-4768-9300-ab23dfc20d6a"
   },
   "outputs": [
    {
     "name": "stdout",
     "output_type": "stream",
     "text": [
      "env: DATA_PATH=\n",
      "env: OPENAI_API_KEY=\n",
      "env: SAVE_PATH=\n"
     ]
    }
   ],
   "source": [
    "DATA_PATH = ''\n",
    "%env DATA_PATH=$DATA_PATH\n",
    "\n",
    "%env OPENAI_API_KEY=\n",
    "\n",
    "SAVE_PATH = ''\n",
    "%env SAVE_PATH=$SAVE_PATH"
   ]
  },
  {
   "cell_type": "code",
   "execution_count": 4,
   "metadata": {
    "executionInfo": {
     "elapsed": 307,
     "status": "ok",
     "timestamp": 1652808165307,
     "user": {
      "displayName": "Mirelle Bueno",
      "userId": "12875486356900025383"
     },
     "user_tz": 180
    },
    "id": "U4RQRpTaAsT7"
   },
   "outputs": [],
   "source": [
    "import pandas as pd\n",
    "\n",
    "def save_results(prompt, ground_truth, responses, file_name):\n",
    "  \n",
    "  results = {'prompt':[], 'ground_truth':[],'candidate':[]}\n",
    "  assert len(prompt) == len(response)\n",
    "  assert len(ground_truth) == len(response)\n",
    "\n",
    "  for p, gt, resp in zip(prompt, ground_truth, response['choices']):\n",
    "    results['prompt'].append(p)\n",
    "    results['ground_truth'].append(gt)\n",
    "    results['candidate'].append(resp['text'])\n",
    "    #results.append(resp['text'])\n",
    "\n",
    "  #save results\n",
    "  df = pd.DataFrame(results)\n",
    "  df.to_csv(file_name, sep='\\t', index = False)\n",
    "\n",
    "def create_test_input(df, column):\n",
    "  samples = []\n",
    "  for sample in df[column]:\n",
    "    samples.append(str(sample))\n",
    "  return samples"
   ]
  },
  {
   "cell_type": "code",
   "execution_count": 5,
   "metadata": {
    "colab": {
     "base_uri": "https://localhost:8080/"
    },
    "executionInfo": {
     "elapsed": 877775,
     "status": "ok",
     "timestamp": 1652809044747,
     "user": {
      "displayName": "Mirelle Bueno",
      "userId": "12875486356900025383"
     },
     "user_tz": 180
    },
    "id": "W1N-xTTy_C5A",
    "outputId": "db4b0b1c-db3e-4572-c48b-2dba9ce4da6a"
   },
   "outputs": [
    {
     "name": "stdout",
     "output_type": "stream",
     "text": [
      "Logging requires wandb to be installed. Run `pip install wandb`.\n",
      "Found potentially duplicated files with name 'train_prepared.jsonl', purpose 'fine-tune' and size 2781328 bytes\n",
      "file-c3rqE7k3iAtuKBy9jeTfPzOo\n",
      "file-yWVOE5K21zuvnx4lvVNZnD4x\n",
      "file-tmN7EBMlKGoURe2Xgbx3eYsk\n",
      "file-MMFN0ZyclUTWlSAMdVx6ZWnz\n",
      "file-IbHWXtibR4efY5DLqxCS7seA\n",
      "file-S3UgL9VHGkgweNuI71L4S6ka\n",
      "file-VimGtzBaCVKUyunGa79FrUdQ\n",
      "file-pi8DLn0qTeSvBijnt9mv2JIo\n",
      "Enter file ID to reuse an already uploaded file, or an empty string to upload this file anyway: \n",
      "Upload progress: 100% 2.78M/2.78M [00:00<00:00, 4.70Git/s]\n",
      "Uploaded file from /content/drive/MyDrive/MESTRADO/projeto/Experimentos/SCAN/Fine-Tuning-GPT3/Data/train_prepared.jsonl: file-TctZDk0kyF6mQ3yyXGOPETfU\n",
      "Created fine-tune: ft-5zcM20uNhFdqp0odCrUbXYNR\n",
      "Streaming events until fine-tuning is complete...\n",
      "\n",
      "(Ctrl-C will interrupt the stream, but not cancel the fine-tune)\n",
      "[2022-05-17 17:22:59] Created fine-tune: ft-5zcM20uNhFdqp0odCrUbXYNR\n",
      "[2022-05-17 17:27:23] Fine-tune costs $41.16\n",
      "[2022-05-17 17:27:23] Fine-tune enqueued. Queue number: 3\n",
      "\n",
      "Stream interrupted (client disconnected).\n",
      "To resume the stream, run:\n",
      "\n",
      "  openai api fine_tunes.follow -i ft-5zcM20uNhFdqp0odCrUbXYNR\n",
      "\n"
     ]
    }
   ],
   "source": [
    "!openai api fine_tunes.create -m davinci --n_epochs 3 -t $DATA_PATH --learning_rate_multiplier 0.02 --batch_size 128\n"
   ]
  },
  {
   "cell_type": "code",
   "execution_count": 13,
   "metadata": {
    "colab": {
     "base_uri": "https://localhost:8080/"
    },
    "executionInfo": {
     "elapsed": 2383,
     "status": "ok",
     "timestamp": 1652814968962,
     "user": {
      "displayName": "Mirelle Bueno",
      "userId": "12875486356900025383"
     },
     "user_tz": 180
    },
    "id": "rrHcNKQQGLdU",
    "outputId": "0560dbdc-8ff9-4276-e6f6-8f9be7dfca31"
   },
   "outputs": [
    {
     "name": "stdout",
     "output_type": "stream",
     "text": [
      "Logging requires wandb to be installed. Run `pip install wandb`.\n",
      "[2022-05-17 17:22:59] Created fine-tune: ft-5zcM20uNhFdqp0odCrUbXYNR\n",
      "[2022-05-17 17:27:23] Fine-tune costs $41.16\n",
      "[2022-05-17 17:27:23] Fine-tune enqueued. Queue number: 3\n",
      "[2022-05-17 17:38:29] Fine-tune is in the queue. Queue number: 2\n",
      "[2022-05-17 18:35:24] Fine-tune is in the queue. Queue number: 1\n",
      "[2022-05-17 18:45:19] Fine-tune is in the queue. Queue number: 0\n",
      "[2022-05-17 18:45:24] Fine-tune started\n",
      "[2022-05-17 18:53:18] Completed epoch 1/3\n",
      "[2022-05-17 18:58:23] Completed epoch 2/3\n",
      "[2022-05-17 19:03:26] Completed epoch 3/3\n",
      "[2022-05-17 19:04:01] Uploaded model: davinci:ft-unicamp-2022-05-17-19-03-59\n",
      "[2022-05-17 19:04:04] Uploaded result file: file-DpkD4aqYzhwHWYFTS2DYqYfM\n",
      "[2022-05-17 19:04:05] Fine-tune succeeded\n",
      "\n",
      "Job complete! Status: succeeded 🎉\n",
      "Try out your fine-tuned model:\n",
      "\n",
      "openai api completions.create -m davinci:ft-unicamp-2022-05-17-19-03-59 -p <YOUR_PROMPT>\n"
     ]
    }
   ],
   "source": [
    "!openai api fine_tunes.follow -i ft-5zcM20uNhFdqp0odCrUbXYNR"
   ]
  }
 ],
 "metadata": {
  "colab": {
   "authorship_tag": "ABX9TyNg2IjKVR0VZPLjaOBnEizG",
   "collapsed_sections": [],
   "mount_file_id": "1HLWaHNnEY04UHQNl4wDd0xRpXNndhI4i",
   "name": "fine-tuning-GPT3.ipynb",
   "provenance": []
  },
  "kernelspec": {
   "display_name": "Python 3 (ipykernel)",
   "language": "python",
   "name": "python3"
  },
  "language_info": {
   "codemirror_mode": {
    "name": "ipython",
    "version": 3
   },
   "file_extension": ".py",
   "mimetype": "text/x-python",
   "name": "python",
   "nbconvert_exporter": "python",
   "pygments_lexer": "ipython3",
   "version": "3.8.10"
  }
 },
 "nbformat": 4,
 "nbformat_minor": 1
}
